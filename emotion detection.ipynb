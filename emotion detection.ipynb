{
 "cells": [
  {
   "cell_type": "code",
   "execution_count": 2,
   "metadata": {},
   "outputs": [],
   "source": [
    "import tensorflow as tf\n",
    "import numpy as np\n",
    "import matplotlib.pyplot as plt"
   ]
  },
  {
   "cell_type": "markdown",
   "metadata": {},
   "source": [
    "# Load Data"
   ]
  },
  {
   "cell_type": "code",
   "execution_count": 26,
   "metadata": {},
   "outputs": [],
   "source": [
    "import pickle\n",
    "from sklearn.model_selection import train_test_split"
   ]
  },
  {
   "cell_type": "code",
   "execution_count": 6,
   "metadata": {},
   "outputs": [],
   "source": [
    "image = pickle.load(open('../data/images.pickle', 'rb'))\n",
    "labels = pickle.load(open('../data/labels.pickle', 'rb'))"
   ]
  },
  {
   "cell_type": "code",
   "execution_count": 9,
   "metadata": {},
   "outputs": [
    {
     "data": {
      "text/plain": [
       "(327, 240, 320, 1)"
      ]
     },
     "execution_count": 9,
     "metadata": {},
     "output_type": "execute_result"
    }
   ],
   "source": [
    "image = image.reshape(image.shape[0], image.shape[1], image.shape[2], 1)\n",
    "image.shape"
   ]
  },
  {
   "cell_type": "code",
   "execution_count": 13,
   "metadata": {},
   "outputs": [
    {
     "data": {
      "text/plain": [
       "7"
      ]
     },
     "execution_count": 13,
     "metadata": {},
     "output_type": "execute_result"
    }
   ],
   "source": [
    "np.bincount(labels.astype(np.int64)).shape[0]"
   ]
  },
  {
   "cell_type": "code",
   "execution_count": 28,
   "metadata": {},
   "outputs": [
    {
     "data": {
      "text/plain": [
       "((277, 240, 320, 1), (50, 240, 320, 1), (277,), (50,))"
      ]
     },
     "execution_count": 28,
     "metadata": {},
     "output_type": "execute_result"
    }
   ],
   "source": [
    "train_image, test_image, train_labels, test_labels = train_test_split(image, labels, test_size=0.15, random_state=50)\n",
    "train_image.shape, test_image.shape, train_labels.shape, test_labels.shape"
   ]
  },
  {
   "cell_type": "markdown",
   "metadata": {},
   "source": [
    "# Training"
   ]
  },
  {
   "cell_type": "code",
   "execution_count": 62,
   "metadata": {
    "scrolled": true
   },
   "outputs": [
    {
     "name": "stdout",
     "output_type": "stream",
     "text": [
      "_________________________________________________________________\n",
      "Layer (type)                 Output Shape              Param #   \n",
      "=================================================================\n",
      "conv2d_86 (Conv2D)           (None, 120, 160, 8)       80        \n",
      "_________________________________________________________________\n",
      "conv2d_87 (Conv2D)           (None, 60, 80, 16)        3216      \n",
      "_________________________________________________________________\n",
      "max_pooling2d_41 (MaxPooling (None, 30, 40, 16)        0         \n",
      "_________________________________________________________________\n",
      "batch_normalization_18 (Batc (None, 30, 40, 16)        64        \n",
      "_________________________________________________________________\n",
      "conv2d_88 (Conv2D)           (None, 30, 40, 32)        12832     \n",
      "_________________________________________________________________\n",
      "conv2d_89 (Conv2D)           (None, 30, 40, 64)        51264     \n",
      "_________________________________________________________________\n",
      "max_pooling2d_42 (MaxPooling (None, 15, 20, 64)        0         \n",
      "_________________________________________________________________\n",
      "conv2d_90 (Conv2D)           (None, 15, 20, 129)       206529    \n",
      "_________________________________________________________________\n",
      "conv2d_91 (Conv2D)           (None, 8, 10, 256)        1618432   \n",
      "_________________________________________________________________\n",
      "max_pooling2d_43 (MaxPooling (None, 4, 5, 256)         0         \n",
      "_________________________________________________________________\n",
      "conv2d_92 (Conv2D)           (None, 2, 3, 256)         1638656   \n",
      "_________________________________________________________________\n",
      "flatten_16 (Flatten)         (None, 1536)              0         \n",
      "_________________________________________________________________\n",
      "dense_39 (Dense)             (None, 128)               196736    \n",
      "_________________________________________________________________\n",
      "dropout_15 (Dropout)         (None, 128)               0         \n",
      "_________________________________________________________________\n",
      "dense_40 (Dense)             (None, 7)                 903       \n",
      "=================================================================\n",
      "Total params: 3,728,712\n",
      "Trainable params: 3,728,680\n",
      "Non-trainable params: 32\n",
      "_________________________________________________________________\n"
     ]
    }
   ],
   "source": [
    "model = tf.keras.Sequential([\n",
    "    tf.keras.layers.Conv2D(8, (3,3), strides=(2,2), padding='same', activation='relu', input_shape=image.shape[1:]),\n",
    "    tf.keras.layers.Conv2D(16, (5,5), strides=(2,2), padding='same', activation='relu'),\n",
    "    tf.keras.layers.MaxPool2D(strides=(2,2)),\n",
    "    tf.keras.layers.BatchNormalization(),\n",
    "    tf.keras.layers.Conv2D(32, (5,5), strides=(1,1), padding='same', activation='relu'),\n",
    "    tf.keras.layers.Conv2D(64, (5,5), strides=(1,1), padding='same', activation='relu'),\n",
    "    tf.keras.layers.MaxPool2D(strides=(2,2)),\n",
    "    tf.keras.layers.Conv2D(129, (5,5), strides=(1,1), padding='same', activation='relu'),\n",
    "    tf.keras.layers.Conv2D(256, (7,7), strides=(2,2), padding='same', activation='relu'),\n",
    "    tf.keras.layers.MaxPool2D(strides=(2,2)),\n",
    "    tf.keras.layers.Conv2D(256, (5,5), strides=(2,2), padding='same', activation='relu'),\n",
    "#     tf.keras.layers.Dropout(0.2),\n",
    "    tf.keras.layers.Flatten(),\n",
    "#     tf.keras.layers.Dense(256, activation='relu'),\n",
    "    tf.keras.layers.Dense(128, activation='relu'),\n",
    "    tf.keras.layers.Dropout(0.3),\n",
    "    tf.keras.layers.Dense(7, activation='softmax')\n",
    "])\n",
    "model.summary()"
   ]
  },
  {
   "cell_type": "code",
   "execution_count": 63,
   "metadata": {},
   "outputs": [],
   "source": [
    "model.compile(loss=tf.keras.losses.sparse_categorical_crossentropy, metrics=['accuracy'], optimizer=tf.keras.optimizers.Adam(), )"
   ]
  },
  {
   "cell_type": "code",
   "execution_count": 65,
   "metadata": {},
   "outputs": [
    {
     "name": "stdout",
     "output_type": "stream",
     "text": [
      "Train on 277 samples, validate on 50 samples\n",
      "Epoch 1/20\n",
      "277/277 [==============================] - 2s 7ms/step - loss: 1.5704 - acc: 0.3574 - val_loss: 1.9171 - val_acc: 0.2400\n",
      "Epoch 2/20\n",
      "277/277 [==============================] - 2s 7ms/step - loss: 1.5462 - acc: 0.3574 - val_loss: 1.9067 - val_acc: 0.2600\n",
      "Epoch 3/20\n",
      "277/277 [==============================] - 2s 7ms/step - loss: 1.4793 - acc: 0.3935 - val_loss: 1.9243 - val_acc: 0.2200\n",
      "Epoch 4/20\n",
      "277/277 [==============================] - 2s 7ms/step - loss: 1.3981 - acc: 0.4296 - val_loss: 1.9012 - val_acc: 0.2400\n",
      "Epoch 5/20\n",
      "277/277 [==============================] - 2s 7ms/step - loss: 1.2720 - acc: 0.4801 - val_loss: 1.9029 - val_acc: 0.2400\n",
      "Epoch 6/20\n",
      "277/277 [==============================] - 2s 7ms/step - loss: 1.1809 - acc: 0.5487 - val_loss: 1.9040 - val_acc: 0.2200\n",
      "Epoch 7/20\n",
      "277/277 [==============================] - 2s 7ms/step - loss: 1.2100 - acc: 0.5487 - val_loss: 1.9140 - val_acc: 0.2600\n",
      "Epoch 8/20\n",
      "277/277 [==============================] - 2s 7ms/step - loss: 1.1197 - acc: 0.6137 - val_loss: 1.9083 - val_acc: 0.2400\n",
      "Epoch 9/20\n",
      "277/277 [==============================] - 2s 7ms/step - loss: 1.2011 - acc: 0.5235 - val_loss: 1.9195 - val_acc: 0.2400\n",
      "Epoch 10/20\n",
      "277/277 [==============================] - 2s 7ms/step - loss: 1.0413 - acc: 0.6101 - val_loss: 1.9007 - val_acc: 0.3000\n",
      "Epoch 11/20\n",
      "277/277 [==============================] - 2s 7ms/step - loss: 0.8763 - acc: 0.6823 - val_loss: 1.8813 - val_acc: 0.2600\n",
      "Epoch 12/20\n",
      "277/277 [==============================] - 2s 7ms/step - loss: 0.8368 - acc: 0.6679 - val_loss: 1.9001 - val_acc: 0.2200\n",
      "Epoch 13/20\n",
      "277/277 [==============================] - 2s 7ms/step - loss: 0.6220 - acc: 0.7473 - val_loss: 1.8867 - val_acc: 0.2600\n",
      "Epoch 14/20\n",
      "277/277 [==============================] - 2s 7ms/step - loss: 0.4827 - acc: 0.8159 - val_loss: 1.9083 - val_acc: 0.2000\n",
      "Epoch 15/20\n",
      "277/277 [==============================] - 2s 7ms/step - loss: 0.3971 - acc: 0.8556 - val_loss: 1.8688 - val_acc: 0.2200\n",
      "Epoch 16/20\n",
      "277/277 [==============================] - 2s 7ms/step - loss: 0.4115 - acc: 0.8592 - val_loss: 1.8832 - val_acc: 0.2600\n",
      "Epoch 17/20\n",
      "277/277 [==============================] - 2s 7ms/step - loss: 0.2951 - acc: 0.9097 - val_loss: 1.9517 - val_acc: 0.1800\n",
      "Epoch 18/20\n",
      "277/277 [==============================] - 2s 7ms/step - loss: 0.3623 - acc: 0.8773 - val_loss: 1.8906 - val_acc: 0.2000\n",
      "Epoch 19/20\n",
      "277/277 [==============================] - 2s 7ms/step - loss: 0.3804 - acc: 0.8664 - val_loss: 1.9023 - val_acc: 0.3200\n",
      "Epoch 20/20\n",
      "277/277 [==============================] - 2s 7ms/step - loss: 0.2315 - acc: 0.9206 - val_loss: 1.9080 - val_acc: 0.2000\n"
     ]
    },
    {
     "data": {
      "text/plain": [
       "<tensorflow.python.keras.callbacks.History at 0x247634e1080>"
      ]
     },
     "execution_count": 65,
     "metadata": {},
     "output_type": "execute_result"
    }
   ],
   "source": [
    "model.fit(train_image, train_labels, validation_data=(test_image, test_labels), batch_size=64, epochs=20)"
   ]
  },
  {
   "cell_type": "code",
   "execution_count": null,
   "metadata": {},
   "outputs": [],
   "source": []
  }
 ],
 "metadata": {
  "kernelspec": {
   "display_name": "Python 3",
   "language": "python",
   "name": "python3"
  },
  "language_info": {
   "codemirror_mode": {
    "name": "ipython",
    "version": 3
   },
   "file_extension": ".py",
   "mimetype": "text/x-python",
   "name": "python",
   "nbconvert_exporter": "python",
   "pygments_lexer": "ipython3",
   "version": "3.6.4"
  }
 },
 "nbformat": 4,
 "nbformat_minor": 2
}
