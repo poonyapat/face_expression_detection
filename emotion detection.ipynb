{
 "cells": [
  {
   "cell_type": "code",
   "execution_count": 2,
   "metadata": {},
   "outputs": [],
   "source": [
    "import tensorflow as tf\n",
    "import numpy as np\n",
    "import matplotlib.pyplot as plt"
   ]
  },
  {
   "cell_type": "markdown",
   "metadata": {},
   "source": [
    "# Load Data"
   ]
  },
  {
   "cell_type": "code",
   "execution_count": 26,
   "metadata": {},
   "outputs": [],
   "source": [
    "import pickle\n",
    "from sklearn.model_selection import train_test_split"
   ]
  },
  {
   "cell_type": "code",
   "execution_count": 6,
   "metadata": {},
   "outputs": [],
   "source": [
    "image = pickle.load(open('../data/images.pickle', 'rb'))\n",
    "labels = pickle.load(open('../data/labels.pickle', 'rb'))"
   ]
  },
  {
   "cell_type": "code",
   "execution_count": 9,
   "metadata": {},
   "outputs": [
    {
     "data": {
      "text/plain": [
       "(327, 240, 320, 1)"
      ]
     },
     "execution_count": 9,
     "metadata": {},
     "output_type": "execute_result"
    }
   ],
   "source": [
    "image = image.reshape(image.shape[0], image.shape[1], image.shape[2], 1)\n",
    "image.shape"
   ]
  },
  {
   "cell_type": "code",
   "execution_count": 13,
   "metadata": {},
   "outputs": [
    {
     "data": {
      "text/plain": [
       "7"
      ]
     },
     "execution_count": 13,
     "metadata": {},
     "output_type": "execute_result"
    }
   ],
   "source": [
    "np.bincount(labels.astype(np.int64)).shape[0]"
   ]
  },
  {
   "cell_type": "code",
   "execution_count": 28,
   "metadata": {},
   "outputs": [
    {
     "data": {
      "text/plain": [
       "((277, 240, 320, 1), (50, 240, 320, 1), (277,), (50,))"
      ]
     },
     "execution_count": 28,
     "metadata": {},
     "output_type": "execute_result"
    }
   ],
   "source": [
    "train_image, test_image, train_labels, test_labels = train_test_split(image, labels, test_size=0.15, random_state=50)\n",
    "train_image.shape, test_image.shape, train_labels.shape, test_labels.shape"
   ]
  },
  {
   "cell_type": "markdown",
   "metadata": {},
   "source": [
    "# Training"
   ]
  },
  {
   "cell_type": "code",
   "execution_count": 41,
   "metadata": {
    "scrolled": true
   },
   "outputs": [
    {
     "name": "stdout",
     "output_type": "stream",
     "text": [
      "_________________________________________________________________\n",
      "Layer (type)                 Output Shape              Param #   \n",
      "=================================================================\n",
      "conv2d_20 (Conv2D)           (None, 120, 160, 8)       80        \n",
      "_________________________________________________________________\n",
      "conv2d_21 (Conv2D)           (None, 60, 80, 32)        6432      \n",
      "_________________________________________________________________\n",
      "max_pooling2d_10 (MaxPooling (None, 30, 40, 32)        0         \n",
      "_________________________________________________________________\n",
      "conv2d_22 (Conv2D)           (None, 15, 20, 64)        51264     \n",
      "_________________________________________________________________\n",
      "conv2d_23 (Conv2D)           (None, 8, 10, 256)        803072    \n",
      "_________________________________________________________________\n",
      "max_pooling2d_11 (MaxPooling (None, 4, 5, 256)         0         \n",
      "_________________________________________________________________\n",
      "flatten_5 (Flatten)          (None, 5120)              0         \n",
      "_________________________________________________________________\n",
      "dense_9 (Dense)              (None, 512)               2621952   \n",
      "_________________________________________________________________\n",
      "dense_10 (Dense)             (None, 7)                 3591      \n",
      "=================================================================\n",
      "Total params: 3,486,391\n",
      "Trainable params: 3,486,391\n",
      "Non-trainable params: 0\n",
      "_________________________________________________________________\n"
     ]
    }
   ],
   "source": [
    "model = tf.keras.Sequential([\n",
    "    tf.keras.layers.Conv2D(8, (3,3), strides=(2,2), padding='same', activation='relu', input_shape=image.shape[1:]),\n",
    "    tf.keras.layers.Conv2D(32, (5,5), strides=(2,2), padding='same', activation='relu'),\n",
    "    tf.keras.layers.MaxPool2D(strides=(2,2)),\n",
    "    tf.keras.layers.Conv2D(64, (5,5), strides=(2,2), padding='same', activation='relu'),\n",
    "    tf.keras.layers.Conv2D(256, (7,7), strides=(2,2), padding='same', activation='relu'),\n",
    "    tf.keras.layers.MaxPool2D(strides=(2,2)),\n",
    "    tf.keras.layers.Flatten(),\n",
    "    tf.keras.layers.Dense(512, activation='relu'),\n",
    "#     tf.keras.layers.Dropout(0.3),\n",
    "    tf.keras.layers.Dense(7, activation='softmax')\n",
    "])\n",
    "model.summary()"
   ]
  },
  {
   "cell_type": "code",
   "execution_count": 42,
   "metadata": {},
   "outputs": [],
   "source": [
    "model.compile(loss=tf.keras.losses.sparse_categorical_crossentropy, metrics=['accuracy'], optimizer=tf.keras.optimizers.Adam(), )"
   ]
  },
  {
   "cell_type": "code",
   "execution_count": 43,
   "metadata": {},
   "outputs": [
    {
     "name": "stdout",
     "output_type": "stream",
     "text": [
      "Train on 277 samples, validate on 50 samples\n",
      "Epoch 1/20\n",
      "277/277 [==============================] - 3s 13ms/step - loss: 1.9154 - acc: 0.1516 - val_loss: 1.8922 - val_acc: 0.1400\n",
      "Epoch 2/20\n",
      "277/277 [==============================] - 1s 4ms/step - loss: 1.8590 - acc: 0.2238 - val_loss: 1.9000 - val_acc: 0.1400\n",
      "Epoch 3/20\n",
      "277/277 [==============================] - 1s 5ms/step - loss: 1.8273 - acc: 0.2383 - val_loss: 1.8678 - val_acc: 0.2800\n",
      "Epoch 4/20\n",
      "277/277 [==============================] - 1s 5ms/step - loss: 1.8298 - acc: 0.2491 - val_loss: 1.8566 - val_acc: 0.2800\n",
      "Epoch 5/20\n",
      "277/277 [==============================] - 1s 4ms/step - loss: 1.8201 - acc: 0.2491 - val_loss: 1.8779 - val_acc: 0.2800\n",
      "Epoch 6/20\n",
      "277/277 [==============================] - 1s 4ms/step - loss: 1.8137 - acc: 0.2635 - val_loss: 1.8601 - val_acc: 0.1600\n",
      "Epoch 7/20\n",
      "277/277 [==============================] - 1s 4ms/step - loss: 1.8107 - acc: 0.2527 - val_loss: 1.8711 - val_acc: 0.1600\n",
      "Epoch 8/20\n",
      "277/277 [==============================] - 1s 4ms/step - loss: 1.7944 - acc: 0.2671 - val_loss: 1.8593 - val_acc: 0.2000\n",
      "Epoch 9/20\n",
      "277/277 [==============================] - 1s 4ms/step - loss: 1.8017 - acc: 0.2816 - val_loss: 1.8525 - val_acc: 0.2600\n",
      "Epoch 10/20\n",
      "277/277 [==============================] - 1s 4ms/step - loss: 1.7815 - acc: 0.2599 - val_loss: 1.8970 - val_acc: 0.2000\n",
      "Epoch 11/20\n",
      "277/277 [==============================] - 1s 4ms/step - loss: 1.7827 - acc: 0.2744 - val_loss: 1.8831 - val_acc: 0.1600\n",
      "Epoch 12/20\n",
      "277/277 [==============================] - 1s 5ms/step - loss: 1.7367 - acc: 0.3285 - val_loss: 1.9617 - val_acc: 0.2400\n",
      "Epoch 13/20\n",
      "277/277 [==============================] - 1s 5ms/step - loss: 1.7229 - acc: 0.3032 - val_loss: 1.9233 - val_acc: 0.1800\n",
      "Epoch 14/20\n",
      "277/277 [==============================] - 1s 4ms/step - loss: 1.6741 - acc: 0.3069 - val_loss: 1.9096 - val_acc: 0.2600\n",
      "Epoch 15/20\n",
      "277/277 [==============================] - 1s 4ms/step - loss: 1.6564 - acc: 0.3466 - val_loss: 1.8430 - val_acc: 0.2400\n",
      "Epoch 16/20\n",
      "277/277 [==============================] - 1s 5ms/step - loss: 1.6398 - acc: 0.3177 - val_loss: 1.9794 - val_acc: 0.2000\n",
      "Epoch 17/20\n",
      "277/277 [==============================] - 1s 5ms/step - loss: 1.5525 - acc: 0.3935 - val_loss: 1.9822 - val_acc: 0.3000\n",
      "Epoch 18/20\n",
      "277/277 [==============================] - 1s 4ms/step - loss: 1.4658 - acc: 0.4440 - val_loss: 2.0522 - val_acc: 0.2600\n",
      "Epoch 19/20\n",
      "277/277 [==============================] - 1s 5ms/step - loss: 1.4163 - acc: 0.4224 - val_loss: 2.0963 - val_acc: 0.2000\n",
      "Epoch 20/20\n",
      "277/277 [==============================] - 1s 5ms/step - loss: 1.2473 - acc: 0.5018 - val_loss: 2.4699 - val_acc: 0.2200\n"
     ]
    },
    {
     "data": {
      "text/plain": [
       "<tensorflow.python.keras.callbacks.History at 0x24750e17be0>"
      ]
     },
     "execution_count": 43,
     "metadata": {},
     "output_type": "execute_result"
    }
   ],
   "source": [
    "model.fit(train_image, train_labels, validation_data=(test_image, test_labels), batch_size=64, epochs=20)"
   ]
  },
  {
   "cell_type": "code",
   "execution_count": null,
   "metadata": {},
   "outputs": [],
   "source": []
  }
 ],
 "metadata": {
  "kernelspec": {
   "display_name": "Python 3",
   "language": "python",
   "name": "python3"
  },
  "language_info": {
   "codemirror_mode": {
    "name": "ipython",
    "version": 3
   },
   "file_extension": ".py",
   "mimetype": "text/x-python",
   "name": "python",
   "nbconvert_exporter": "python",
   "pygments_lexer": "ipython3",
   "version": "3.6.4"
  }
 },
 "nbformat": 4,
 "nbformat_minor": 2
}
