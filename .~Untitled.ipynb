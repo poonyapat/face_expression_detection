{
 "cells": [
  {
   "cell_type": "code",
   "execution_count": 2,
   "metadata": {},
   "outputs": [],
   "source": [
    "import tensorflow as tf\n",
    "import numpy as np\n",
    "import matplotlib.pyplot as plt\n",
    "import cv2\n",
    "import pickle"
   ]
  },
  {
   "cell_type": "code",
   "execution_count": 12,
   "metadata": {},
   "outputs": [],
   "source": [
    "images = pickle.load(open('images2.pickle', 'rb'))\n",
    "labels = pickle.load(open('labels.pickle', 'rb'))"
   ]
  },
  {
   "cell_type": "code",
   "execution_count": 13,
   "metadata": {},
   "outputs": [
    {
     "data": {
      "text/plain": [
       "(327, 480, 640, 1)"
      ]
     },
     "execution_count": 13,
     "metadata": {},
     "output_type": "execute_result"
    }
   ],
   "source": [
    "images = images.reshape(images.shape[0], images.shape[1],images.shape[2],1)\n",
    "images.shape"
   ]
  },
  {
   "cell_type": "code",
   "execution_count": 31,
   "metadata": {},
   "outputs": [],
   "source": [
    "train_images = images[:280]\n",
    "test_images = images[281:]\n",
    "train_labels = labels[:280]\n",
    "test_labels = labels[281:]"
   ]
  },
  {
   "cell_type": "code",
   "execution_count": 36,
   "metadata": {},
   "outputs": [],
   "source": [
    "hists = []"
   ]
  },
  {
   "cell_type": "code",
   "execution_count": 47,
   "metadata": {},
   "outputs": [],
   "source": [
    "def plot_history(hist):\n",
    "    plt.figure(figsize=(16,4))\n",
    "    plt.subplot(1,2,1)\n",
    "    plt.plot(hist.history['loss'])\n",
    "    plt.plot(hist.history['val_loss'])\n",
    "    print(\"lowest val loss: {}\".format(np.min(hist.history['val_loss'])))\n",
    "    plt.subplot(1,2,2)\n",
    "    plt.plot(hist.history['acc'])\n",
    "    plt.plot(hist.history['val_acc'])\n",
    "    print(\"lowest val acc: {}\".format(np.max(hist.history['val_acc'])))"
   ]
  },
  {
   "cell_type": "code",
   "execution_count": 48,
   "metadata": {
    "scrolled": true
   },
   "outputs": [
    {
     "name": "stdout",
     "output_type": "stream",
     "text": [
      "_________________________________________________________________\n",
      "Layer (type)                 Output Shape              Param #   \n",
      "=================================================================\n",
      "conv2d_37 (Conv2D)           (None, 239, 319, 32)      320       \n",
      "_________________________________________________________________\n",
      "max_pooling2d_38 (MaxPooling (None, 119, 159, 32)      0         \n",
      "_________________________________________________________________\n",
      "conv2d_38 (Conv2D)           (None, 59, 79, 64)        18496     \n",
      "_________________________________________________________________\n",
      "max_pooling2d_39 (MaxPooling (None, 29, 39, 64)        0         \n",
      "_________________________________________________________________\n",
      "conv2d_39 (Conv2D)           (None, 14, 19, 256)       147712    \n",
      "_________________________________________________________________\n",
      "max_pooling2d_40 (MaxPooling (None, 7, 9, 256)         0         \n",
      "_________________________________________________________________\n",
      "flatten_10 (Flatten)         (None, 16128)             0         \n",
      "_________________________________________________________________\n",
      "dense_32 (Dense)             (None, 64)                1032256   \n",
      "_________________________________________________________________\n",
      "dense_33 (Dense)             (None, 32)                2080      \n",
      "_________________________________________________________________\n",
      "dense_34 (Dense)             (None, 16)                528       \n",
      "_________________________________________________________________\n",
      "dense_35 (Dense)             (None, 7)                 119       \n",
      "=================================================================\n",
      "Total params: 1,201,511\n",
      "Trainable params: 1,201,511\n",
      "Non-trainable params: 0\n",
      "_________________________________________________________________\n"
     ]
    }
   ],
   "source": [
    "model= tf.keras.Sequential([\n",
    "    tf.keras.layers.Conv2D(32, strides=(2,2), kernel_size=(3,3), input_shape=images.shape[1:]),\n",
    "    tf.keras.layers.MaxPool2D(strides=(2,2)),\n",
    "    tf.keras.layers.Conv2D(64, strides=(2,2), kernel_size=(3,3), input_shape=images.shape[1:]),\n",
    "    tf.keras.layers.MaxPool2D(strides=(2,2)),\n",
    "    tf.keras.layers.Conv2D(256, strides=(2,2), kernel_size=(3,3), input_shape=images.shape[1:]),\n",
    "    tf.keras.layers.MaxPool2D(strides=(2,2)),\n",
    "    tf.keras.layers.Flatten(),\n",
    "    tf.keras.layers.Dense(64, activation='relu'),\n",
    "    tf.keras.layers.Dense(32, activation='relu'),\n",
    "    tf.keras.layers.Dense(16, activation='relu'),\n",
    "    tf.keras.layers.Dense(7, activation='softmax')\n",
    "])\n",
    "model.compile(loss='sparse_categorical_crossentropy', optimizer=tf.train.AdamOptimizer(), metrics=['accuracy'])\n",
    "model.summary()"
   ]
  },
  {
   "cell_type": "code",
   "execution_count": null,
   "metadata": {
    "scrolled": true
   },
   "outputs": [
    {
     "name": "stdout",
     "output_type": "stream",
     "text": [
      "Train on 280 samples, validate on 46 samples\n",
      "Epoch 1/50\n",
      "280/280 [==============================] - 2s 8ms/step - loss: 1.9476 - acc: 0.1893 - val_loss: 1.8476 - val_acc: 0.2391\n",
      "Epoch 2/50\n",
      "280/280 [==============================] - 2s 5ms/step - loss: 1.8546 - acc: 0.2571 - val_loss: 1.8084 - val_acc: 0.2826\n",
      "Epoch 3/50\n",
      "280/280 [==============================] - 1s 5ms/step - loss: 1.8358 - acc: 0.1821 - val_loss: 1.8312 - val_acc: 0.2174\n",
      "Epoch 4/50\n",
      "280/280 [==============================] - 1s 5ms/step - loss: 1.8405 - acc: 0.2536 - val_loss: 1.7968 - val_acc: 0.2391\n",
      "Epoch 5/50\n",
      "280/280 [==============================] - 1s 5ms/step - loss: 1.7783 - acc: 0.2714 - val_loss: 1.7805 - val_acc: 0.2391\n",
      "Epoch 6/50\n",
      "280/280 [==============================] - 1s 5ms/step - loss: 1.7367 - acc: 0.3071 - val_loss: 1.7997 - val_acc: 0.2174\n",
      "Epoch 7/50\n",
      "280/280 [==============================] - 1s 5ms/step - loss: 1.7382 - acc: 0.3036 - val_loss: 1.7501 - val_acc: 0.2391\n",
      "Epoch 8/50\n",
      "280/280 [==============================] - 1s 5ms/step - loss: 1.6710 - acc: 0.3393 - val_loss: 1.7780 - val_acc: 0.3043\n",
      "Epoch 9/50\n",
      "280/280 [==============================] - 2s 5ms/step - loss: 1.6103 - acc: 0.3714 - val_loss: 1.8188 - val_acc: 0.2609\n",
      "Epoch 10/50\n",
      "280/280 [==============================] - 1s 5ms/step - loss: 1.5522 - acc: 0.4250 - val_loss: 1.8133 - val_acc: 0.2391\n",
      "Epoch 11/50\n",
      "280/280 [==============================] - 1s 5ms/step - loss: 1.4556 - acc: 0.4821 - val_loss: 1.8280 - val_acc: 0.2826\n",
      "Epoch 12/50\n",
      "280/280 [==============================] - 1s 5ms/step - loss: 1.3536 - acc: 0.4821 - val_loss: 1.9025 - val_acc: 0.3043\n",
      "Epoch 13/50\n",
      "280/280 [==============================] - 1s 5ms/step - loss: 1.2823 - acc: 0.5250 - val_loss: 1.7884 - val_acc: 0.2391\n",
      "Epoch 14/50\n",
      "280/280 [==============================] - 1s 5ms/step - loss: 1.1703 - acc: 0.5643 - val_loss: 2.1295 - val_acc: 0.3696\n",
      "Epoch 15/50\n",
      "280/280 [==============================] - 1s 5ms/step - loss: 1.1888 - acc: 0.5786 - val_loss: 1.7840 - val_acc: 0.3478\n",
      "Epoch 16/50\n",
      " 32/280 [==>...........................] - ETA: 1s - loss: 0.8065 - acc: 0.7500"
     ]
    }
   ],
   "source": [
    "hists.append(model.fit(train_images, train_labels, epochs=50, validation_data=(test_images, test_labels)))"
   ]
  },
  {
   "cell_type": "code",
   "execution_count": 46,
   "metadata": {},
   "outputs": [
    {
     "name": "stdout",
     "output_type": "stream",
     "text": [
      "lowest val loss: 1.545600061831267\n",
      "lowest val acc: 0.4347826164701711\n"
     ]
    },
    {
     "data": {
      "image/png": "[encoded data removed]",
      "text/plain": [
       "<Figure size 1152x288 with 2 Axes>"
      ]
     },
     "metadata": {
      "needs_background": "light"
     },
     "output_type": "display_data"
    }
   ],
   "source": [
    "plot_history(hists[0])"
   ]
  },
  {
   "cell_type": "code",
   "execution_count": null,
   "metadata": {},
   "outputs": [],
   "source": []
  }
 ],
 "metadata": {
  "kernelspec": {
   "display_name": "Python 3",
   "language": "python",
   "name": "python3"
  },
  "language_info": {
   "codemirror_mode": {
    "name": "ipython",
    "version": 3
   },
   "file_extension": ".py",
   "mimetype": "text/x-python",
   "name": "python",
   "nbconvert_exporter": "python",
   "pygments_lexer": "ipython3",
   "version": "3.5.4"
  }
 },
 "nbformat": 4,
 "nbformat_minor": 2
}
